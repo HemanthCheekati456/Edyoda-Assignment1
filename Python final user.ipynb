{
 "cells": [
  {
   "cell_type": "code",
   "execution_count": 3,
   "id": "a4d4f86d",
   "metadata": {},
   "outputs": [],
   "source": [
    "class User:\n",
    "    \n",
    "    def __init__(self,Full_name,Phone_number,Email,Adress,password):\n",
    "        self.Full_name=Full_name\n",
    "        self.Phone_number=Phone_number\n",
    "        self.Email=Email\n",
    "        self.Adress=Adress\n",
    "        self.password=password\n",
    "        self.items={1:\"Tandoori Chicken (4 pieces) [INR 240]\",\n",
    "                    2:\"Vegan Burger (1 Piece) [INR 320]\", \n",
    "                    3:\"Truffle Cake (500gm) [INR 900]\"}\n",
    "        self.orders=[]\n",
    "    def login(self,email,password):\n",
    "        if(self.Email==email):\n",
    "            if(self.password==password):\n",
    "                print('1:Place new order')\n",
    "                print('2:Order History')\n",
    "                print('3:Update Profile')\n",
    "                z=int(input())\n",
    "                if(z==1):\n",
    "                    self.place_new_order()\n",
    "                if(z==2):\n",
    "                    self.Order_History()\n",
    "                if(z==3):\n",
    "                    Full_name=input(\"Full_name: \")\n",
    "                    Phone_number=int(input(\"Phone_number: \"))\n",
    "                    Email=input(\"Email: \")\n",
    "                    Adress=input(\"Adress: \")\n",
    "                    password=input(\"password: \")\n",
    "                    self.Update_profile(Full_name,Phone_number,Email,Adress,password)\n",
    "                \n",
    "            else:\n",
    "                print(\"Wrong Password\")\n",
    "        else:\n",
    "            print(\"Wrong Email\")\n",
    "    def place_new_order(self):\n",
    "        x=[]\n",
    "        print(self.items)\n",
    "        a=int(input(\"Number of elements in the array:-\"))\n",
    "        n=list(map(int, input(\"elements of array:-\"). strip(). split(',')))\n",
    "        print(n)\n",
    "        print(\"Items selected\")\n",
    "        for i in n:\n",
    "            print(self.items[i])\n",
    "            x.append(self.items[i])\n",
    "        self.orders.append(x)\n",
    "        Place=int(input(\"Press '1' to place an order\"))\n",
    "                        \n",
    "                \n",
    "                \n",
    "        \n",
    "        \n",
    "    def Order_History(self):\n",
    "        print(self.orders)\n",
    "        \n",
    "        \n",
    "    def Update_profile(self,Full_name,Phone_number,Email,Adress,password):\n",
    "        self.Full_name=Full_name\n",
    "        self.Phone_number=Phone_number\n",
    "        self.Email=Email\n",
    "        self.Adress=Adress\n",
    "        self.password=password\n",
    "        \n",
    "        \n",
    "\n",
    "\n",
    "        "
   ]
  },
  {
   "cell_type": "code",
   "execution_count": 4,
   "id": "8ab9a9ed",
   "metadata": {},
   "outputs": [],
   "source": [
    "User2=User('Hemanth',98666,'hemanth@gmail.com','NAnadyal', '23132')"
   ]
  },
  {
   "cell_type": "code",
   "execution_count": 10,
   "id": "9d129403",
   "metadata": {},
   "outputs": [
    {
     "name": "stdout",
     "output_type": "stream",
     "text": [
      "1:Place new order\n",
      "2:Order History\n",
      "3:Update Profile\n",
      "3\n",
      "Full_name: C.Hemanth\n",
      "Phone_number: 986661\n",
      "Email: hemanth@gmail.com\n",
      "Adress: Nandyal\n",
      "password: 12345\n"
     ]
    }
   ],
   "source": [
    "User2.login('hemanth@gmail.com','23132')"
   ]
  },
  {
   "cell_type": "code",
   "execution_count": 12,
   "id": "2d871dac",
   "metadata": {},
   "outputs": [
    {
     "ename": "NameError",
     "evalue": "name 'User1' is not defined",
     "output_type": "error",
     "traceback": [
      "\u001b[1;31m---------------------------------------------------------------------------\u001b[0m",
      "\u001b[1;31mNameError\u001b[0m                                 Traceback (most recent call last)",
      "Input \u001b[1;32mIn [12]\u001b[0m, in \u001b[0;36m<module>\u001b[1;34m\u001b[0m\n\u001b[1;32m----> 1\u001b[0m \u001b[38;5;28mprint\u001b[39m(\u001b[43mUser1\u001b[49m\u001b[38;5;241m.\u001b[39mFull_name)\n",
      "\u001b[1;31mNameError\u001b[0m: name 'User1' is not defined"
     ]
    }
   ],
   "source": [
    "print(User1.Full_name)"
   ]
  },
  {
   "cell_type": "code",
   "execution_count": null,
   "id": "a36b7d40",
   "metadata": {},
   "outputs": [],
   "source": []
  }
 ],
 "metadata": {
  "kernelspec": {
   "display_name": "Python 3 (ipykernel)",
   "language": "python",
   "name": "python3"
  },
  "language_info": {
   "codemirror_mode": {
    "name": "ipython",
    "version": 3
   },
   "file_extension": ".py",
   "mimetype": "text/x-python",
   "name": "python",
   "nbconvert_exporter": "python",
   "pygments_lexer": "ipython3",
   "version": "3.10.1"
  }
 },
 "nbformat": 4,
 "nbformat_minor": 5
}
