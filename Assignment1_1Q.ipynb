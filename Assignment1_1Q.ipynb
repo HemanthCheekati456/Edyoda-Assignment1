{
 "cells": [
  {
   "cell_type": "code",
   "execution_count": 1,
   "id": "4f5c6141",
   "metadata": {},
   "outputs": [
    {
     "name": "stdout",
     "output_type": "stream",
     "text": [
      "100\n",
      "0 1 1 2 3 5 8 13 21 34 55 89 "
     ]
    }
   ],
   "source": [
    "l1=0\n",
    "l2=1\n",
    "l3=l1+l2\n",
    "input_value=int(input())\n",
    "if (input_value==0):\n",
    "    print(l1)\n",
    "elif( input_value==1):\n",
    "    print(l1,l2)\n",
    "elif(input_value<0):\n",
    "    print(\"Wrong Value\")\n",
    "else:\n",
    "    print(l1,l2, end =\" \")\n",
    "    while(l3<input_value):\n",
    "        print(l3, end =\" \")\n",
    "        l1=l2\n",
    "        l2=l3\n",
    "        l3=l1+l2\n",
    "    \n"
   ]
  }
 ],
 "metadata": {
  "kernelspec": {
   "display_name": "Python 3 (ipykernel)",
   "language": "python",
   "name": "python3"
  },
  "language_info": {
   "codemirror_mode": {
    "name": "ipython",
    "version": 3
   },
   "file_extension": ".py",
   "mimetype": "text/x-python",
   "name": "python",
   "nbconvert_exporter": "python",
   "pygments_lexer": "ipython3",
   "version": "3.10.1"
  }
 },
 "nbformat": 4,
 "nbformat_minor": 5
}
