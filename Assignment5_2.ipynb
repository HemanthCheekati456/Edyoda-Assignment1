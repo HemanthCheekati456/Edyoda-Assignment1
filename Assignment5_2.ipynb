{
 "cells": [
  {
   "cell_type": "code",
   "execution_count": 5,
   "id": "df948c7b",
   "metadata": {},
   "outputs": [
    {
     "name": "stdout",
     "output_type": "stream",
     "text": [
      "nameTejashri\n",
      "Physics:80\n",
      "chemistry90\n",
      "biology:40\n",
      "210\n",
      "70\n"
     ]
    }
   ],
   "source": [
    "class Student:\n",
    "    def __init__(self,name,phy,chem,bio):\n",
    "        self.name=name\n",
    "        self.phy=phy\n",
    "        self.chem=chem\n",
    "        self.bio=bio\n",
    "    def totalObtained(self):\n",
    "        return(self.phy+self.chem+self.bio)\n",
    "    def percentage(self):\n",
    "        return(self.totalObtained()//3)\n",
    "name=input(\"name\")\n",
    "phy=int(input(\"Physics:\"))\n",
    "chem=int(input(\"chemistry:\"))\n",
    "bio=int(input(\"biology:\"))\n",
    "s1=Student(name,phy,chem,bio)\n",
    "print(s1.totalObtained())\n",
    "print(s1.percentage())"
   ]
  },
  {
   "cell_type": "code",
   "execution_count": null,
   "id": "996b3226",
   "metadata": {},
   "outputs": [],
   "source": []
  }
 ],
 "metadata": {
  "kernelspec": {
   "display_name": "Python 3 (ipykernel)",
   "language": "python",
   "name": "python3"
  },
  "language_info": {
   "codemirror_mode": {
    "name": "ipython",
    "version": 3
   },
   "file_extension": ".py",
   "mimetype": "text/x-python",
   "name": "python",
   "nbconvert_exporter": "python",
   "pygments_lexer": "ipython3",
   "version": "3.10.1"
  }
 },
 "nbformat": 4,
 "nbformat_minor": 5
}
