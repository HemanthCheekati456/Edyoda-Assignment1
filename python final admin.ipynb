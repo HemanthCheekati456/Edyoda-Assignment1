{
 "cells": [
  {
   "cell_type": "code",
   "execution_count": null,
   "id": "0fb6e8dd",
   "metadata": {},
   "outputs": [
    {
     "name": "stdout",
     "output_type": "stream",
     "text": [
      "1.Add \n",
      "2.Edit  \n",
      "3.View \n",
      "4.Remove \n",
      "choose :2\n",
      "Edit1\n",
      "id:2\n",
      "NAME of ITem:name\n"
     ]
    }
   ],
   "source": [
    "class Admin:\n",
    "    global foodId\n",
    "    def __init__(self,name,userid,password):\n",
    "        self.name=name\n",
    "        self.userid=userid\n",
    "        self.password=password\n",
    "        self.foodId = 0\n",
    "        self.Itemlist=[]\n",
    "        \n",
    "        \n",
    "    def login(self,userid,password):\n",
    "        if(self.userid==userid):\n",
    "            if(self.password==password):\n",
    "                print(\"1.Add \\n2.Edit  \\n3.View \\n4.Remove \")\n",
    "                opt=int(input(\"choose :\"))\n",
    "                if(opt==1):\n",
    "                    self.Add()\n",
    "                elif(opt==2):\n",
    "                    self.Edit()\n",
    "                elif(opt==3):\n",
    "                    self.View()\n",
    "                elif(opt==4):\n",
    "                    self.Remove()                \n",
    "                \n",
    "    def Add(self):\n",
    "        self.foodId=self.foodId+1\n",
    "        name=input(\"NAME of ITem:\")\n",
    "        Quantity=input(\"Quan\")\n",
    "        pro=input(\"Price\")\n",
    "        dis=input(\"Dis:\")\n",
    "        stock=input(\"stock:\")\n",
    "        self.Itemlist.append([self.foodId,name,Quantity,pro,dis,stock])\n",
    "        print(self.Itemlist)\n",
    "        \n",
    "    def Edit(self):\n",
    "        print('Edit1')\n",
    "        foodidq=int(input(\"id:\"))\n",
    "        for i in self.Itemlist:\n",
    "            if(i[0]==foodidq):\n",
    "                name=input(\"NAME of ITem:\")\n",
    "                Quantity=input(\"Quan\")\n",
    "                pro=input(\"Price\")\n",
    "                dis=input(\"Dis:\")\n",
    "                stock=input(\"stock:\")\n",
    "                self.Itemlist[self.Itemlist.index(i)]=[foodidq,name,Quantity,pro,dis,stock]\n",
    "\n",
    "         \n",
    "        \n",
    "    def View(self):\n",
    "        print(self.Itemlist)\n",
    "        \n",
    "    def Remove(self):\n",
    "        foodidq=int(input(\"id:\"))\n",
    "        for i in self.Itemlist:\n",
    "            if(i[0]==foodidq):\n",
    "                self.Itemlist.remove(i)\n",
    "                break\n",
    "admin1.login('a','b')\n",
    "             "
   ]
  },
  {
   "cell_type": "code",
   "execution_count": null,
   "id": "59a6b95c",
   "metadata": {},
   "outputs": [],
   "source": []
  },
  {
   "cell_type": "code",
   "execution_count": null,
   "id": "20ed3f6e",
   "metadata": {},
   "outputs": [],
   "source": [
    "admin1 =Admin('hem','a','b')"
   ]
  }
 ],
 "metadata": {
  "kernelspec": {
   "display_name": "Python 3 (ipykernel)",
   "language": "python",
   "name": "python3"
  },
  "language_info": {
   "codemirror_mode": {
    "name": "ipython",
    "version": 3
   },
   "file_extension": ".py",
   "mimetype": "text/x-python",
   "name": "python",
   "nbconvert_exporter": "python",
   "pygments_lexer": "ipython3",
   "version": "3.10.1"
  }
 },
 "nbformat": 4,
 "nbformat_minor": 5
}
