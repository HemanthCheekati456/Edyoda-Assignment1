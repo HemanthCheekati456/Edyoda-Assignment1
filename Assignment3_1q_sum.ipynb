{
 "cells": [
  {
   "cell_type": "code",
   "execution_count": 3,
   "id": "e55e0a1d",
   "metadata": {},
   "outputs": [
    {
     "name": "stdout",
     "output_type": "stream",
     "text": [
      "enter5\n",
      "ele8\n",
      "ele2\n",
      "ele3\n",
      "ele0\n",
      "ele7\n",
      "20\n"
     ]
    }
   ],
   "source": [
    "list=[]\n",
    "n=int(input(\"enter\"))\n",
    "for i in range(0,n):\n",
    "    ele=int(input(\"ele\"))\n",
    "    list.append(ele)\n",
    "\n",
    "def sum(numbers):\n",
    "    total=0\n",
    "    for i in numbers:\n",
    "        total+=i\n",
    "    return total\n",
    "print(sum(list))\n",
    "    "
   ]
  },
  {
   "cell_type": "code",
   "execution_count": null,
   "id": "aab42987",
   "metadata": {},
   "outputs": [],
   "source": []
  }
 ],
 "metadata": {
  "kernelspec": {
   "display_name": "Python 3 (ipykernel)",
   "language": "python",
   "name": "python3"
  },
  "language_info": {
   "codemirror_mode": {
    "name": "ipython",
    "version": 3
   },
   "file_extension": ".py",
   "mimetype": "text/x-python",
   "name": "python",
   "nbconvert_exporter": "python",
   "pygments_lexer": "ipython3",
   "version": "3.10.1"
  }
 },
 "nbformat": 4,
 "nbformat_minor": 5
}
