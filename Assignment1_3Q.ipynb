{
 "cells": [
  {
   "cell_type": "code",
   "execution_count": 1,
   "id": "605a2b6c",
   "metadata": {},
   "outputs": [
    {
     "name": "stdout",
     "output_type": "stream",
     "text": [
      "1,2,3,4,5,6,7,8,9\n",
      "Number of even numbers : 4\n",
      "Number of odd numbers : 5\n"
     ]
    }
   ],
   "source": [
    "input_list=input()\n",
    "k=input_list.split(\",\")\n",
    "c1,c2=0,0\n",
    "for i in k:\n",
    "    if(int(i)%2==0):\n",
    "        c1+=1\n",
    "    else:\n",
    "        c2+=1\n",
    "print(\"Number of even numbers :\",c1)\n",
    "print(\"Number of odd numbers :\",c2)"
   ]
  },
  {
   "cell_type": "code",
   "execution_count": null,
   "id": "8a8d6335",
   "metadata": {},
   "outputs": [],
   "source": []
  }
 ],
 "metadata": {
  "kernelspec": {
   "display_name": "Python 3 (ipykernel)",
   "language": "python",
   "name": "python3"
  },
  "language_info": {
   "codemirror_mode": {
    "name": "ipython",
    "version": 3
   },
   "file_extension": ".py",
   "mimetype": "text/x-python",
   "name": "python",
   "nbconvert_exporter": "python",
   "pygments_lexer": "ipython3",
   "version": "3.10.1"
  }
 },
 "nbformat": 4,
 "nbformat_minor": 5
}
